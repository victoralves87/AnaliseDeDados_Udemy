{
  "cells": [
    {
      "cell_type": "markdown",
      "metadata": {
        "id": "view-in-github",
        "colab_type": "text"
      },
      "source": [
        "<a href=\"https://colab.research.google.com/github/victoralves87/AnaliseDeDados_Udemy/blob/main/Exercicio1Python.ipynb\" target=\"_parent\"><img src=\"https://colab.research.google.com/assets/colab-badge.svg\" alt=\"Open In Colab\"/></a>"
      ]
    },
    {
      "cell_type": "code",
      "execution_count": null,
      "id": "3e1684e9-c608-4eb4-8eb2-3b9ab54aaaa9",
      "metadata": {
        "id": "3e1684e9-c608-4eb4-8eb2-3b9ab54aaaa9"
      },
      "outputs": [],
      "source": [
        "import pandas as pd\n",
        "import seaborn as srn\n",
        "import statistics  as sts"
      ]
    },
    {
      "cell_type": "code",
      "execution_count": null,
      "id": "6af6041f-5028-4389-b829-e0bb58101433",
      "metadata": {
        "id": "6af6041f-5028-4389-b829-e0bb58101433",
        "outputId": "d08d41f5-5149-4bbc-ec6e-9687b5bcf671"
      },
      "outputs": [
        {
          "data": {
            "text/html": [
              "<div>\n",
              "<style scoped>\n",
              "    .dataframe tbody tr th:only-of-type {\n",
              "        vertical-align: middle;\n",
              "    }\n",
              "\n",
              "    .dataframe tbody tr th {\n",
              "        vertical-align: top;\n",
              "    }\n",
              "\n",
              "    .dataframe thead th {\n",
              "        text-align: right;\n",
              "    }\n",
              "</style>\n",
              "<table border=\"1\" class=\"dataframe\">\n",
              "  <thead>\n",
              "    <tr style=\"text-align: right;\">\n",
              "      <th></th>\n",
              "      <th>Aparencia</th>\n",
              "      <th>Temperatura</th>\n",
              "      <th>Umidade</th>\n",
              "      <th>Vento</th>\n",
              "      <th>Jogar</th>\n",
              "    </tr>\n",
              "  </thead>\n",
              "  <tbody>\n",
              "    <tr>\n",
              "      <th>0</th>\n",
              "      <td>sol</td>\n",
              "      <td>85</td>\n",
              "      <td>85.0</td>\n",
              "      <td>FALSO</td>\n",
              "      <td>nao</td>\n",
              "    </tr>\n",
              "    <tr>\n",
              "      <th>1</th>\n",
              "      <td>sol</td>\n",
              "      <td>80</td>\n",
              "      <td>90.0</td>\n",
              "      <td>VERDADEIRO</td>\n",
              "      <td>nao</td>\n",
              "    </tr>\n",
              "    <tr>\n",
              "      <th>2</th>\n",
              "      <td>nublado</td>\n",
              "      <td>83</td>\n",
              "      <td>86.0</td>\n",
              "      <td>FALSO</td>\n",
              "      <td>sim</td>\n",
              "    </tr>\n",
              "    <tr>\n",
              "      <th>3</th>\n",
              "      <td>chuva</td>\n",
              "      <td>70</td>\n",
              "      <td>NaN</td>\n",
              "      <td>FALSO</td>\n",
              "      <td>sim</td>\n",
              "    </tr>\n",
              "    <tr>\n",
              "      <th>4</th>\n",
              "      <td>chuva</td>\n",
              "      <td>68</td>\n",
              "      <td>80.0</td>\n",
              "      <td>FALSO</td>\n",
              "      <td>sim</td>\n",
              "    </tr>\n",
              "  </tbody>\n",
              "</table>\n",
              "</div>"
            ],
            "text/plain": [
              "  Aparencia  Temperatura  Umidade       Vento Jogar\n",
              "0       sol           85     85.0       FALSO   nao\n",
              "1       sol           80     90.0  VERDADEIRO   nao\n",
              "2   nublado           83     86.0       FALSO   sim\n",
              "3     chuva           70      NaN       FALSO   sim\n",
              "4     chuva           68     80.0       FALSO   sim"
            ]
          },
          "execution_count": 3,
          "metadata": {},
          "output_type": "execute_result"
        }
      ],
      "source": [
        "#importar dados\"\n",
        "dataset = pd.read_csv(\"/home/victor87/Área de trabalho/ciência de dados/tempo.csv\", sep=\";\")\n",
        "dataset.head()"
      ]
    },
    {
      "cell_type": "code",
      "execution_count": null,
      "id": "1edd4ca4-3b13-4c96-acd9-b66716d71c06",
      "metadata": {
        "id": "1edd4ca4-3b13-4c96-acd9-b66716d71c06",
        "outputId": "d756404d-6120-4e05-df1e-f7376843c68a"
      },
      "outputs": [
        {
          "data": {
            "text/plain": [
              "(14, 5)"
            ]
          },
          "execution_count": 9,
          "metadata": {},
          "output_type": "execute_result"
        }
      ],
      "source": [
        "dataset.shape"
      ]
    },
    {
      "cell_type": "code",
      "execution_count": null,
      "id": "2e7e4323-492f-4d75-a8c6-602468e27a2e",
      "metadata": {
        "id": "2e7e4323-492f-4d75-a8c6-602468e27a2e",
        "outputId": "fd38dd38-7c1c-4e17-9b51-261b0bba5e97"
      },
      "outputs": [
        {
          "data": {
            "text/plain": [
              "Aparencia      0\n",
              "Temperatura    0\n",
              "Umidade        1\n",
              "Vento          1\n",
              "Jogar          0\n",
              "dtype: int64"
            ]
          },
          "execution_count": 15,
          "metadata": {},
          "output_type": "execute_result"
        }
      ],
      "source": [
        "#contamos valores NAN\n",
        "dataset.isnull().sum()"
      ]
    },
    {
      "cell_type": "code",
      "execution_count": null,
      "id": "cebc33b9-ee7b-453d-9814-7596c2b52049",
      "metadata": {
        "id": "cebc33b9-ee7b-453d-9814-7596c2b52049",
        "outputId": "777c7f4d-25f6-4572-b143-e21a7abc7dae"
      },
      "outputs": [
        {
          "data": {
            "text/plain": [
              "Temperatura\n",
              "64      1\n",
              "65      1\n",
              "68      1\n",
              "69      1\n",
              "70      1\n",
              "71      1\n",
              "72      1\n",
              "75      2\n",
              "80      1\n",
              "81      1\n",
              "83      1\n",
              "85      1\n",
              "1220    1\n",
              "dtype: int64"
            ]
          },
          "execution_count": 13,
          "metadata": {},
          "output_type": "execute_result"
        }
      ],
      "source": [
        "agrupado = dataset.groupby([\"Temperatura\"]).size()\n",
        "agrupado"
      ]
    },
    {
      "cell_type": "markdown",
      "id": "4b12d272-df24-4159-ba39-597304b11d87",
      "metadata": {
        "id": "4b12d272-df24-4159-ba39-597304b11d87"
      },
      "source": [
        "    A TEMPERATURA TEM QUE ESTA ENTRE -130F ~ 130F"
      ]
    },
    {
      "cell_type": "code",
      "execution_count": null,
      "id": "b67d370c-8828-4fed-ba8c-674b88f803e2",
      "metadata": {
        "id": "b67d370c-8828-4fed-ba8c-674b88f803e2",
        "outputId": "ab42c481-dbf9-4afa-8308-e25d89530594"
      },
      "outputs": [
        {
          "data": {
            "text/html": [
              "<div>\n",
              "<style scoped>\n",
              "    .dataframe tbody tr th:only-of-type {\n",
              "        vertical-align: middle;\n",
              "    }\n",
              "\n",
              "    .dataframe tbody tr th {\n",
              "        vertical-align: top;\n",
              "    }\n",
              "\n",
              "    .dataframe thead th {\n",
              "        text-align: right;\n",
              "    }\n",
              "</style>\n",
              "<table border=\"1\" class=\"dataframe\">\n",
              "  <thead>\n",
              "    <tr style=\"text-align: right;\">\n",
              "      <th></th>\n",
              "      <th>Aparencia</th>\n",
              "      <th>Temperatura</th>\n",
              "      <th>Umidade</th>\n",
              "      <th>Vento</th>\n",
              "      <th>Jogar</th>\n",
              "    </tr>\n",
              "  </thead>\n",
              "  <tbody>\n",
              "    <tr>\n",
              "      <th>7</th>\n",
              "      <td>sol</td>\n",
              "      <td>1220</td>\n",
              "      <td>95.0</td>\n",
              "      <td>FALSO</td>\n",
              "      <td>nao</td>\n",
              "    </tr>\n",
              "  </tbody>\n",
              "</table>\n",
              "</div>"
            ],
            "text/plain": [
              "  Aparencia  Temperatura  Umidade  Vento Jogar\n",
              "7       sol         1220     95.0  FALSO   nao"
            ]
          },
          "execution_count": 21,
          "metadata": {},
          "output_type": "execute_result"
        }
      ],
      "source": [
        "#visualizando onde as temperaturas são menores que -130 e maiores que 130\n",
        "\n",
        "dataset.loc[(dataset['Temperatura'] <  -130 )  | ( dataset['Temperatura'] >  130) ]"
      ]
    },
    {
      "cell_type": "code",
      "execution_count": null,
      "id": "ccfe4ae4-4b1a-47b5-94de-db81031a7cb7",
      "metadata": {
        "id": "ccfe4ae4-4b1a-47b5-94de-db81031a7cb7",
        "outputId": "539ff815-f289-4a23-b650-9eebae986f63"
      },
      "outputs": [
        {
          "data": {
            "text/plain": [
              "73.5"
            ]
          },
          "execution_count": 23,
          "metadata": {},
          "output_type": "execute_result"
        }
      ],
      "source": [
        "#calculando mediana\n",
        "mediana = sts.median(dataset['Temperatura'])\n",
        "mediana"
      ]
    },
    {
      "cell_type": "code",
      "execution_count": null,
      "id": "e019d7bc-0c1b-4f82-ae78-97be3fa48477",
      "metadata": {
        "id": "e019d7bc-0c1b-4f82-ae78-97be3fa48477"
      },
      "outputs": [],
      "source": [
        "# Substituindo valores fora do padrão pela mediana\n",
        "mediana = float(mediana)\n",
        "dataset.loc[(dataset['Temperatura'] < -130 ) | (dataset['Temperatura'] > 130), 'Temperatura'] = mediana"
      ]
    },
    {
      "cell_type": "code",
      "execution_count": null,
      "id": "6a599474-0de8-4e5b-a59c-3ee1256a3aa0",
      "metadata": {
        "id": "6a599474-0de8-4e5b-a59c-3ee1256a3aa0",
        "outputId": "130840ac-cc95-441b-bc38-ab8ef7501c60"
      },
      "outputs": [
        {
          "data": {
            "text/html": [
              "<div>\n",
              "<style scoped>\n",
              "    .dataframe tbody tr th:only-of-type {\n",
              "        vertical-align: middle;\n",
              "    }\n",
              "\n",
              "    .dataframe tbody tr th {\n",
              "        vertical-align: top;\n",
              "    }\n",
              "\n",
              "    .dataframe thead th {\n",
              "        text-align: right;\n",
              "    }\n",
              "</style>\n",
              "<table border=\"1\" class=\"dataframe\">\n",
              "  <thead>\n",
              "    <tr style=\"text-align: right;\">\n",
              "      <th></th>\n",
              "      <th>Aparencia</th>\n",
              "      <th>Temperatura</th>\n",
              "      <th>Umidade</th>\n",
              "      <th>Vento</th>\n",
              "      <th>Jogar</th>\n",
              "    </tr>\n",
              "  </thead>\n",
              "  <tbody>\n",
              "  </tbody>\n",
              "</table>\n",
              "</div>"
            ],
            "text/plain": [
              "Empty DataFrame\n",
              "Columns: [Aparencia, Temperatura, Umidade, Vento, Jogar]\n",
              "Index: []"
            ]
          },
          "execution_count": 29,
          "metadata": {},
          "output_type": "execute_result"
        }
      ],
      "source": [
        "#visualizando onde as temperaturas são menores que -130 e maiores que 130\n",
        "dataset.loc[(dataset['Temperatura'] <  -130 )  | ( dataset['Temperatura'] >  130) ]"
      ]
    },
    {
      "cell_type": "markdown",
      "id": "cc2402c8-8a46-4bbc-aacf-a00713298ba7",
      "metadata": {
        "id": "cc2402c8-8a46-4bbc-aacf-a00713298ba7"
      },
      "source": [
        "    A UMIDADE TEM QUE ESTÁ ENTRE 0 E 100 && REMOVENDO NUMEROS Nas"
      ]
    },
    {
      "cell_type": "code",
      "execution_count": null,
      "id": "0fe652a0-67da-4b5f-b68d-0ef640d91207",
      "metadata": {
        "id": "0fe652a0-67da-4b5f-b68d-0ef640d91207",
        "outputId": "e22dbdb5-fe7b-408d-c11c-933c36db9c17"
      },
      "outputs": [
        {
          "data": {
            "text/plain": [
              "1"
            ]
          },
          "execution_count": 33,
          "metadata": {},
          "output_type": "execute_result"
        }
      ],
      "source": [
        "#contando valores NAN\n",
        "dataset['Umidade'].isnull().sum()"
      ]
    },
    {
      "cell_type": "code",
      "execution_count": null,
      "id": "a1c20d20-811a-40af-8891-84c9b9689480",
      "metadata": {
        "id": "a1c20d20-811a-40af-8891-84c9b9689480",
        "outputId": "8c65da4c-82df-4d70-f19c-dc6bea21a698"
      },
      "outputs": [
        {
          "data": {
            "text/plain": [
              "85.5"
            ]
          },
          "execution_count": 35,
          "metadata": {},
          "output_type": "execute_result"
        }
      ],
      "source": [
        "#calculando a mediana\n",
        "mediana = sts.median(dataset['Umidade'])\n",
        "mediana"
      ]
    },
    {
      "cell_type": "code",
      "execution_count": null,
      "id": "d11c3a6c-4668-4125-bb43-2c00d7e4c2ea",
      "metadata": {
        "id": "d11c3a6c-4668-4125-bb43-2c00d7e4c2ea"
      },
      "outputs": [],
      "source": [
        "#substituindo valores nulos pela mediana\n",
        "dataset['Umidade'] = dataset['Umidade'].fillna(mediana)\n"
      ]
    },
    {
      "cell_type": "code",
      "execution_count": null,
      "id": "81f14b0b-a234-46ff-8222-cd805083bfae",
      "metadata": {
        "id": "81f14b0b-a234-46ff-8222-cd805083bfae",
        "outputId": "f2aa456e-5365-486e-ef6c-c2864f8c7c46"
      },
      "outputs": [
        {
          "data": {
            "text/plain": [
              "0"
            ]
          },
          "execution_count": 39,
          "metadata": {},
          "output_type": "execute_result"
        }
      ],
      "source": [
        "#contando valores NAN\n",
        "dataset['Umidade'].isnull().sum()"
      ]
    },
    {
      "cell_type": "code",
      "execution_count": null,
      "id": "fc898a38-3f5c-4a07-95e4-d1ba86a7ee7a",
      "metadata": {
        "id": "fc898a38-3f5c-4a07-95e4-d1ba86a7ee7a",
        "outputId": "a55fd384-1acc-43b2-80eb-3d07e59eea86"
      },
      "outputs": [
        {
          "data": {
            "text/plain": [
              "Umidade\n",
              "65.0     1\n",
              "70.0     3\n",
              "75.0     1\n",
              "80.0     1\n",
              "85.0     1\n",
              "85.5     1\n",
              "86.0     1\n",
              "90.0     2\n",
              "91.0     1\n",
              "95.0     1\n",
              "200.0    1\n",
              "dtype: int64"
            ]
          },
          "execution_count": 41,
          "metadata": {},
          "output_type": "execute_result"
        }
      ],
      "source": [
        "agrupado = dataset.groupby([\"Umidade\"]).size()\n",
        "agrupado"
      ]
    },
    {
      "cell_type": "code",
      "execution_count": null,
      "id": "25f74cf7-66b7-454e-88ee-8f5b0020e65a",
      "metadata": {
        "id": "25f74cf7-66b7-454e-88ee-8f5b0020e65a",
        "outputId": "58438d2f-d93f-4db8-d0ab-b136ce3435bb"
      },
      "outputs": [
        {
          "data": {
            "text/html": [
              "<div>\n",
              "<style scoped>\n",
              "    .dataframe tbody tr th:only-of-type {\n",
              "        vertical-align: middle;\n",
              "    }\n",
              "\n",
              "    .dataframe tbody tr th {\n",
              "        vertical-align: top;\n",
              "    }\n",
              "\n",
              "    .dataframe thead th {\n",
              "        text-align: right;\n",
              "    }\n",
              "</style>\n",
              "<table border=\"1\" class=\"dataframe\">\n",
              "  <thead>\n",
              "    <tr style=\"text-align: right;\">\n",
              "      <th></th>\n",
              "      <th>Aparencia</th>\n",
              "      <th>Temperatura</th>\n",
              "      <th>Umidade</th>\n",
              "      <th>Vento</th>\n",
              "      <th>Jogar</th>\n",
              "    </tr>\n",
              "  </thead>\n",
              "  <tbody>\n",
              "    <tr>\n",
              "      <th>9</th>\n",
              "      <td>chuva</td>\n",
              "      <td>75.0</td>\n",
              "      <td>200.0</td>\n",
              "      <td>NaN</td>\n",
              "      <td>sim</td>\n",
              "    </tr>\n",
              "  </tbody>\n",
              "</table>\n",
              "</div>"
            ],
            "text/plain": [
              "  Aparencia  Temperatura  Umidade Vento Jogar\n",
              "9     chuva         75.0    200.0   NaN   sim"
            ]
          },
          "execution_count": 43,
          "metadata": {},
          "output_type": "execute_result"
        }
      ],
      "source": [
        "#visualizando se as umidades estão entre 0 e 100\n",
        "dataset.loc[(dataset['Umidade'] <  0 )  | ( dataset['Umidade'] >  100) ]"
      ]
    },
    {
      "cell_type": "code",
      "execution_count": null,
      "id": "d64c1905-a69f-495e-90d4-397c413f28b4",
      "metadata": {
        "id": "d64c1905-a69f-495e-90d4-397c413f28b4"
      },
      "outputs": [],
      "source": [
        "# Substituindo valores fora do padrão pela mediana\n",
        "mediana = float(mediana)\n",
        "dataset.loc[(dataset['Umidade'] < 0 ) | (dataset['Umidade'] > 100), 'Umidade'] = mediana"
      ]
    },
    {
      "cell_type": "code",
      "execution_count": null,
      "id": "686980d4-57f8-4b19-8120-aff7a5c38aa3",
      "metadata": {
        "id": "686980d4-57f8-4b19-8120-aff7a5c38aa3",
        "outputId": "f5c8e135-f6b4-410c-b95f-6c060d35821b"
      },
      "outputs": [
        {
          "data": {
            "text/html": [
              "<div>\n",
              "<style scoped>\n",
              "    .dataframe tbody tr th:only-of-type {\n",
              "        vertical-align: middle;\n",
              "    }\n",
              "\n",
              "    .dataframe tbody tr th {\n",
              "        vertical-align: top;\n",
              "    }\n",
              "\n",
              "    .dataframe thead th {\n",
              "        text-align: right;\n",
              "    }\n",
              "</style>\n",
              "<table border=\"1\" class=\"dataframe\">\n",
              "  <thead>\n",
              "    <tr style=\"text-align: right;\">\n",
              "      <th></th>\n",
              "      <th>Aparencia</th>\n",
              "      <th>Temperatura</th>\n",
              "      <th>Umidade</th>\n",
              "      <th>Vento</th>\n",
              "      <th>Jogar</th>\n",
              "    </tr>\n",
              "  </thead>\n",
              "  <tbody>\n",
              "  </tbody>\n",
              "</table>\n",
              "</div>"
            ],
            "text/plain": [
              "Empty DataFrame\n",
              "Columns: [Aparencia, Temperatura, Umidade, Vento, Jogar]\n",
              "Index: []"
            ]
          },
          "execution_count": 47,
          "metadata": {},
          "output_type": "execute_result"
        }
      ],
      "source": [
        "#visualizando se as umidades estão entre 0 e 100\n",
        "dataset.loc[(dataset['Umidade'] <  0 )  | ( dataset['Umidade'] >  100) ]"
      ]
    },
    {
      "cell_type": "code",
      "execution_count": null,
      "id": "eb8456ce-2105-478e-afab-55529ef5c36a",
      "metadata": {
        "id": "eb8456ce-2105-478e-afab-55529ef5c36a"
      },
      "outputs": [],
      "source": []
    }
  ],
  "metadata": {
    "kernelspec": {
      "display_name": "Python [conda env:base] *",
      "language": "python",
      "name": "conda-base-py"
    },
    "language_info": {
      "codemirror_mode": {
        "name": "ipython",
        "version": 3
      },
      "file_extension": ".py",
      "mimetype": "text/x-python",
      "name": "python",
      "nbconvert_exporter": "python",
      "pygments_lexer": "ipython3",
      "version": "3.12.7"
    },
    "colab": {
      "provenance": [],
      "include_colab_link": true
    }
  },
  "nbformat": 4,
  "nbformat_minor": 5
}